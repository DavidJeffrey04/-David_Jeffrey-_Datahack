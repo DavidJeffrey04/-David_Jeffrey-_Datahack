{
 "cells": [
  {
   "cell_type": "code",
   "execution_count": 1,
   "id": "3b966b63",
   "metadata": {},
   "outputs": [],
   "source": [
    "import pandas as pd\n",
    "pd.set_option('display.max_columns', 500)"
   ]
  },
  {
   "cell_type": "code",
   "execution_count": 2,
   "id": "3ab82525",
   "metadata": {},
   "outputs": [],
   "source": [
    "features=pd.read_csv('training_set_features.csv')\n",
    "labels=pd.read_csv('training_set_labels.csv')"
   ]
  },
  {
   "cell_type": "code",
   "execution_count": 3,
   "id": "7750bed3",
   "metadata": {},
   "outputs": [],
   "source": [
    "labels1=labels.drop('xyz_vaccine',axis=1)"
   ]
  },
  {
   "cell_type": "code",
   "execution_count": 4,
   "id": "d76be90e",
   "metadata": {},
   "outputs": [],
   "source": [
    "data=features.merge(labels1,how='outer')"
   ]
  },
  {
   "cell_type": "code",
   "execution_count": 5,
   "id": "aa59b50e",
   "metadata": {},
   "outputs": [],
   "source": [
    "data.drop(['health_insurance','employment_industry','employment_occupation','respondent_id','hhs_geo_region'],axis=1,inplace=True)"
   ]
  },
  {
   "cell_type": "code",
   "execution_count": 6,
   "id": "cfd1ad4e",
   "metadata": {},
   "outputs": [],
   "source": [
    "X=data.drop('seasonal_vaccine',axis=1)\n",
    "y=data['seasonal_vaccine']"
   ]
  },
  {
   "cell_type": "code",
   "execution_count": 7,
   "id": "db5c939f",
   "metadata": {},
   "outputs": [],
   "source": [
    "best_labels=['xyz_concern',\n",
    " 'xyz_knowledge',\n",
    " 'behavioral_antiviral_meds',\n",
    " 'behavioral_avoidance',\n",
    " 'behavioral_face_mask',\n",
    " 'behavioral_wash_hands',\n",
    " 'behavioral_large_gatherings',\n",
    " 'behavioral_outside_home',\n",
    " 'behavioral_touch_face',\n",
    " 'doctor_recc_xyz',\n",
    " 'doctor_recc_seasonal',\n",
    " 'chronic_med_condition',\n",
    " 'child_under_6_months',\n",
    " 'health_worker',\n",
    " 'opinion_xyz_vacc_effective',\n",
    " 'opinion_xyz_risk',\n",
    " 'opinion_xyz_sick_from_vacc',\n",
    " 'opinion_seas_vacc_effective',\n",
    " 'opinion_seas_risk',\n",
    " 'opinion_seas_sick_from_vacc',\n",
    " 'age_group',\n",
    " 'education',\n",
    " 'race',\n",
    " 'sex',\n",
    " 'income_poverty',\n",
    " 'marital_status',\n",
    " 'rent_or_own',\n",
    " 'employment_status',\n",
    " 'census_msa',\n",
    " 'household_adults',\n",
    " 'household_children']"
   ]
  },
  {
   "cell_type": "code",
   "execution_count": 8,
   "id": "afc7aca3",
   "metadata": {},
   "outputs": [],
   "source": [
    "X_new=X[best_labels]"
   ]
  },
  {
   "cell_type": "code",
   "execution_count": 9,
   "id": "8f2b9634",
   "metadata": {},
   "outputs": [],
   "source": [
    "num_cols_new=[i for i in X_new if X_new[i].dtype!=object]\n",
    "cat_cols_new=[i for i in X_new if X_new[i].dtype==object]"
   ]
  },
  {
   "cell_type": "code",
   "execution_count": 10,
   "id": "57cc87b9",
   "metadata": {},
   "outputs": [],
   "source": [
    "from sklearn.pipeline import make_pipeline\n",
    "from sklearn.impute import SimpleImputer\n",
    "from sklearn.preprocessing import OneHotEncoder,OrdinalEncoder\n",
    "from sklearn.compose import make_column_transformer"
   ]
  },
  {
   "cell_type": "code",
   "execution_count": 11,
   "id": "7ba992ee",
   "metadata": {},
   "outputs": [],
   "source": [
    "num_pipe=make_pipeline(SimpleImputer(strategy='most_frequent'))\n",
    "nominal_pipe=make_pipeline(SimpleImputer(strategy='most_frequent'),OneHotEncoder())\n",
    "ordinal_pipe=make_pipeline(SimpleImputer(strategy='most_frequent'),OrdinalEncoder(categories=[['18 - 34 Years','35 - 44 Years','45 - 54 Years','55 - 64 Years','65+ Years'],['< 12 Years', '12 Years', 'Some College','College Graduate'],['Below Poverty','<= $75,000, Above Poverty','> $75,000'],['Unemployed','Not in Labor Force','Employed']]))"
   ]
  },
  {
   "cell_type": "code",
   "execution_count": 12,
   "id": "a6324d42",
   "metadata": {},
   "outputs": [],
   "source": [
    "col_trans=make_column_transformer((num_pipe,num_cols_new),(nominal_pipe,['race','sex','marital_status','rent_or_own','census_msa']),(ordinal_pipe,['age_group','education','income_poverty','employment_status']),remainder='passthrough')"
   ]
  },
  {
   "cell_type": "code",
   "execution_count": 13,
   "id": "77713508",
   "metadata": {},
   "outputs": [],
   "source": [
    "from sklearn.ensemble import HistGradientBoostingClassifier as GBC"
   ]
  },
  {
   "cell_type": "code",
   "execution_count": 14,
   "id": "13399ff0",
   "metadata": {},
   "outputs": [],
   "source": [
    "pipe=make_pipeline(col_trans,GBC(learning_rate=0.03, max_iter=500,l2_regularization=1,max_depth=5, random_state=10))"
   ]
  },
  {
   "cell_type": "code",
   "execution_count": 15,
   "id": "7b0acca4",
   "metadata": {},
   "outputs": [],
   "source": [
    "from sklearn.model_selection import cross_val_score"
   ]
  },
  {
   "cell_type": "code",
   "execution_count": 16,
   "id": "3130ff29",
   "metadata": {},
   "outputs": [
    {
     "data": {
      "text/plain": [
       "0.8569244686324404"
      ]
     },
     "execution_count": 16,
     "metadata": {},
     "output_type": "execute_result"
    }
   ],
   "source": [
    "cross_val_score(pipe,X_new,y,cv=10,scoring='roc_auc').mean()"
   ]
  },
  {
   "cell_type": "code",
   "execution_count": 17,
   "id": "7e8dedc7",
   "metadata": {},
   "outputs": [
    {
     "data": {
      "text/html": [
       "<style>#sk-container-id-1 {color: black;background-color: white;}#sk-container-id-1 pre{padding: 0;}#sk-container-id-1 div.sk-toggleable {background-color: white;}#sk-container-id-1 label.sk-toggleable__label {cursor: pointer;display: block;width: 100%;margin-bottom: 0;padding: 0.3em;box-sizing: border-box;text-align: center;}#sk-container-id-1 label.sk-toggleable__label-arrow:before {content: \"▸\";float: left;margin-right: 0.25em;color: #696969;}#sk-container-id-1 label.sk-toggleable__label-arrow:hover:before {color: black;}#sk-container-id-1 div.sk-estimator:hover label.sk-toggleable__label-arrow:before {color: black;}#sk-container-id-1 div.sk-toggleable__content {max-height: 0;max-width: 0;overflow: hidden;text-align: left;background-color: #f0f8ff;}#sk-container-id-1 div.sk-toggleable__content pre {margin: 0.2em;color: black;border-radius: 0.25em;background-color: #f0f8ff;}#sk-container-id-1 input.sk-toggleable__control:checked~div.sk-toggleable__content {max-height: 200px;max-width: 100%;overflow: auto;}#sk-container-id-1 input.sk-toggleable__control:checked~label.sk-toggleable__label-arrow:before {content: \"▾\";}#sk-container-id-1 div.sk-estimator input.sk-toggleable__control:checked~label.sk-toggleable__label {background-color: #d4ebff;}#sk-container-id-1 div.sk-label input.sk-toggleable__control:checked~label.sk-toggleable__label {background-color: #d4ebff;}#sk-container-id-1 input.sk-hidden--visually {border: 0;clip: rect(1px 1px 1px 1px);clip: rect(1px, 1px, 1px, 1px);height: 1px;margin: -1px;overflow: hidden;padding: 0;position: absolute;width: 1px;}#sk-container-id-1 div.sk-estimator {font-family: monospace;background-color: #f0f8ff;border: 1px dotted black;border-radius: 0.25em;box-sizing: border-box;margin-bottom: 0.5em;}#sk-container-id-1 div.sk-estimator:hover {background-color: #d4ebff;}#sk-container-id-1 div.sk-parallel-item::after {content: \"\";width: 100%;border-bottom: 1px solid gray;flex-grow: 1;}#sk-container-id-1 div.sk-label:hover label.sk-toggleable__label {background-color: #d4ebff;}#sk-container-id-1 div.sk-serial::before {content: \"\";position: absolute;border-left: 1px solid gray;box-sizing: border-box;top: 0;bottom: 0;left: 50%;z-index: 0;}#sk-container-id-1 div.sk-serial {display: flex;flex-direction: column;align-items: center;background-color: white;padding-right: 0.2em;padding-left: 0.2em;position: relative;}#sk-container-id-1 div.sk-item {position: relative;z-index: 1;}#sk-container-id-1 div.sk-parallel {display: flex;align-items: stretch;justify-content: center;background-color: white;position: relative;}#sk-container-id-1 div.sk-item::before, #sk-container-id-1 div.sk-parallel-item::before {content: \"\";position: absolute;border-left: 1px solid gray;box-sizing: border-box;top: 0;bottom: 0;left: 50%;z-index: -1;}#sk-container-id-1 div.sk-parallel-item {display: flex;flex-direction: column;z-index: 1;position: relative;background-color: white;}#sk-container-id-1 div.sk-parallel-item:first-child::after {align-self: flex-end;width: 50%;}#sk-container-id-1 div.sk-parallel-item:last-child::after {align-self: flex-start;width: 50%;}#sk-container-id-1 div.sk-parallel-item:only-child::after {width: 0;}#sk-container-id-1 div.sk-dashed-wrapped {border: 1px dashed gray;margin: 0 0.4em 0.5em 0.4em;box-sizing: border-box;padding-bottom: 0.4em;background-color: white;}#sk-container-id-1 div.sk-label label {font-family: monospace;font-weight: bold;display: inline-block;line-height: 1.2em;}#sk-container-id-1 div.sk-label-container {text-align: center;}#sk-container-id-1 div.sk-container {/* jupyter's `normalize.less` sets `[hidden] { display: none; }` but bootstrap.min.css set `[hidden] { display: none !important; }` so we also need the `!important` here to be able to override the default hidden behavior on the sphinx rendered scikit-learn.org. See: https://github.com/scikit-learn/scikit-learn/issues/21755 */display: inline-block !important;position: relative;}#sk-container-id-1 div.sk-text-repr-fallback {display: none;}</style><div id=\"sk-container-id-1\" class=\"sk-top-container\"><div class=\"sk-text-repr-fallback\"><pre>Pipeline(steps=[(&#x27;columntransformer&#x27;,\n",
       "                 ColumnTransformer(remainder=&#x27;passthrough&#x27;,\n",
       "                                   transformers=[(&#x27;pipeline-1&#x27;,\n",
       "                                                  Pipeline(steps=[(&#x27;simpleimputer&#x27;,\n",
       "                                                                   SimpleImputer(strategy=&#x27;most_frequent&#x27;))]),\n",
       "                                                  [&#x27;xyz_concern&#x27;,\n",
       "                                                   &#x27;xyz_knowledge&#x27;,\n",
       "                                                   &#x27;behavioral_antiviral_meds&#x27;,\n",
       "                                                   &#x27;behavioral_avoidance&#x27;,\n",
       "                                                   &#x27;behavioral_face_mask&#x27;,\n",
       "                                                   &#x27;behavioral_wash_hands&#x27;,\n",
       "                                                   &#x27;behavioral_large_gatherings&#x27;,\n",
       "                                                   &#x27;behavio...\n",
       "                                                                                               &#x27;College &#x27;\n",
       "                                                                                               &#x27;Graduate&#x27;],\n",
       "                                                                                              [&#x27;Below &#x27;\n",
       "                                                                                               &#x27;Poverty&#x27;,\n",
       "                                                                                               &#x27;&lt;= &#x27;\n",
       "                                                                                               &#x27;$75,000, &#x27;\n",
       "                                                                                               &#x27;Above &#x27;\n",
       "                                                                                               &#x27;Poverty&#x27;,\n",
       "                                                                                               &#x27;&gt; &#x27;\n",
       "                                                                                               &#x27;$75,000&#x27;],\n",
       "                                                                                              [&#x27;Unemployed&#x27;,\n",
       "                                                                                               &#x27;Not &#x27;\n",
       "                                                                                               &#x27;in &#x27;\n",
       "                                                                                               &#x27;Labor &#x27;\n",
       "                                                                                               &#x27;Force&#x27;,\n",
       "                                                                                               &#x27;Employed&#x27;]]))]),\n",
       "                                                  [&#x27;age_group&#x27;, &#x27;education&#x27;,\n",
       "                                                   &#x27;income_poverty&#x27;,\n",
       "                                                   &#x27;employment_status&#x27;])])),\n",
       "                (&#x27;histgradientboostingclassifier&#x27;,\n",
       "                 HistGradientBoostingClassifier(l2_regularization=1,\n",
       "                                                learning_rate=0.03, max_depth=5,\n",
       "                                                max_iter=500,\n",
       "                                                random_state=10))])</pre><b>In a Jupyter environment, please rerun this cell to show the HTML representation or trust the notebook. <br />On GitHub, the HTML representation is unable to render, please try loading this page with nbviewer.org.</b></div><div class=\"sk-container\" hidden><div class=\"sk-item sk-dashed-wrapped\"><div class=\"sk-label-container\"><div class=\"sk-label sk-toggleable\"><input class=\"sk-toggleable__control sk-hidden--visually\" id=\"sk-estimator-id-1\" type=\"checkbox\" ><label for=\"sk-estimator-id-1\" class=\"sk-toggleable__label sk-toggleable__label-arrow\">Pipeline</label><div class=\"sk-toggleable__content\"><pre>Pipeline(steps=[(&#x27;columntransformer&#x27;,\n",
       "                 ColumnTransformer(remainder=&#x27;passthrough&#x27;,\n",
       "                                   transformers=[(&#x27;pipeline-1&#x27;,\n",
       "                                                  Pipeline(steps=[(&#x27;simpleimputer&#x27;,\n",
       "                                                                   SimpleImputer(strategy=&#x27;most_frequent&#x27;))]),\n",
       "                                                  [&#x27;xyz_concern&#x27;,\n",
       "                                                   &#x27;xyz_knowledge&#x27;,\n",
       "                                                   &#x27;behavioral_antiviral_meds&#x27;,\n",
       "                                                   &#x27;behavioral_avoidance&#x27;,\n",
       "                                                   &#x27;behavioral_face_mask&#x27;,\n",
       "                                                   &#x27;behavioral_wash_hands&#x27;,\n",
       "                                                   &#x27;behavioral_large_gatherings&#x27;,\n",
       "                                                   &#x27;behavio...\n",
       "                                                                                               &#x27;College &#x27;\n",
       "                                                                                               &#x27;Graduate&#x27;],\n",
       "                                                                                              [&#x27;Below &#x27;\n",
       "                                                                                               &#x27;Poverty&#x27;,\n",
       "                                                                                               &#x27;&lt;= &#x27;\n",
       "                                                                                               &#x27;$75,000, &#x27;\n",
       "                                                                                               &#x27;Above &#x27;\n",
       "                                                                                               &#x27;Poverty&#x27;,\n",
       "                                                                                               &#x27;&gt; &#x27;\n",
       "                                                                                               &#x27;$75,000&#x27;],\n",
       "                                                                                              [&#x27;Unemployed&#x27;,\n",
       "                                                                                               &#x27;Not &#x27;\n",
       "                                                                                               &#x27;in &#x27;\n",
       "                                                                                               &#x27;Labor &#x27;\n",
       "                                                                                               &#x27;Force&#x27;,\n",
       "                                                                                               &#x27;Employed&#x27;]]))]),\n",
       "                                                  [&#x27;age_group&#x27;, &#x27;education&#x27;,\n",
       "                                                   &#x27;income_poverty&#x27;,\n",
       "                                                   &#x27;employment_status&#x27;])])),\n",
       "                (&#x27;histgradientboostingclassifier&#x27;,\n",
       "                 HistGradientBoostingClassifier(l2_regularization=1,\n",
       "                                                learning_rate=0.03, max_depth=5,\n",
       "                                                max_iter=500,\n",
       "                                                random_state=10))])</pre></div></div></div><div class=\"sk-serial\"><div class=\"sk-item sk-dashed-wrapped\"><div class=\"sk-label-container\"><div class=\"sk-label sk-toggleable\"><input class=\"sk-toggleable__control sk-hidden--visually\" id=\"sk-estimator-id-2\" type=\"checkbox\" ><label for=\"sk-estimator-id-2\" class=\"sk-toggleable__label sk-toggleable__label-arrow\">columntransformer: ColumnTransformer</label><div class=\"sk-toggleable__content\"><pre>ColumnTransformer(remainder=&#x27;passthrough&#x27;,\n",
       "                  transformers=[(&#x27;pipeline-1&#x27;,\n",
       "                                 Pipeline(steps=[(&#x27;simpleimputer&#x27;,\n",
       "                                                  SimpleImputer(strategy=&#x27;most_frequent&#x27;))]),\n",
       "                                 [&#x27;xyz_concern&#x27;, &#x27;xyz_knowledge&#x27;,\n",
       "                                  &#x27;behavioral_antiviral_meds&#x27;,\n",
       "                                  &#x27;behavioral_avoidance&#x27;,\n",
       "                                  &#x27;behavioral_face_mask&#x27;,\n",
       "                                  &#x27;behavioral_wash_hands&#x27;,\n",
       "                                  &#x27;behavioral_large_gatherings&#x27;,\n",
       "                                  &#x27;behavioral_outside_home&#x27;,\n",
       "                                  &#x27;behavioral_touch_f...\n",
       "                                                  OrdinalEncoder(categories=[[&#x27;18 &#x27;\n",
       "                                                                              &#x27;- &#x27;\n",
       "                                                                              &#x27;34 &#x27;\n",
       "                                                                              &#x27;Years&#x27;,\n",
       "                                                                              &#x27;35 &#x27;\n",
       "                                                                              &#x27;- &#x27;\n",
       "                                                                              &#x27;44 &#x27;\n",
       "                                                                              &#x27;Years&#x27;,\n",
       "                                                                              &#x27;45 &#x27;\n",
       "                                                                              &#x27;- &#x27;\n",
       "                                                                              &#x27;54 &#x27;\n",
       "                                                                              &#x27;Years&#x27;,\n",
       "                                                                              &#x27;55 &#x27;\n",
       "                                                                              &#x27;- &#x27;\n",
       "                                                                              &#x27;64 &#x27;\n",
       "                                                                              &#x27;Years&#x27;,\n",
       "                                                                              &#x27;65+ &#x27;\n",
       "                                                                              &#x27;Years&#x27;],\n",
       "                                                                             [&#x27;&lt; &#x27;\n",
       "                                                                              &#x27;12 &#x27;\n",
       "                                                                              &#x27;Years&#x27;,\n",
       "                                                                              &#x27;12 &#x27;\n",
       "                                                                              &#x27;Years&#x27;,\n",
       "                                                                              &#x27;Some &#x27;\n",
       "                                                                              &#x27;College&#x27;,\n",
       "                                                                              &#x27;College &#x27;\n",
       "                                                                              &#x27;Graduate&#x27;],\n",
       "                                                                             [&#x27;Below &#x27;\n",
       "                                                                              &#x27;Poverty&#x27;,\n",
       "                                                                              &#x27;&lt;= &#x27;\n",
       "                                                                              &#x27;$75,000, &#x27;\n",
       "                                                                              &#x27;Above &#x27;\n",
       "                                                                              &#x27;Poverty&#x27;,\n",
       "                                                                              &#x27;&gt; &#x27;\n",
       "                                                                              &#x27;$75,000&#x27;],\n",
       "                                                                             [&#x27;Unemployed&#x27;,\n",
       "                                                                              &#x27;Not &#x27;\n",
       "                                                                              &#x27;in &#x27;\n",
       "                                                                              &#x27;Labor &#x27;\n",
       "                                                                              &#x27;Force&#x27;,\n",
       "                                                                              &#x27;Employed&#x27;]]))]),\n",
       "                                 [&#x27;age_group&#x27;, &#x27;education&#x27;, &#x27;income_poverty&#x27;,\n",
       "                                  &#x27;employment_status&#x27;])])</pre></div></div></div><div class=\"sk-parallel\"><div class=\"sk-parallel-item\"><div class=\"sk-item\"><div class=\"sk-label-container\"><div class=\"sk-label sk-toggleable\"><input class=\"sk-toggleable__control sk-hidden--visually\" id=\"sk-estimator-id-3\" type=\"checkbox\" ><label for=\"sk-estimator-id-3\" class=\"sk-toggleable__label sk-toggleable__label-arrow\">pipeline-1</label><div class=\"sk-toggleable__content\"><pre>[&#x27;xyz_concern&#x27;, &#x27;xyz_knowledge&#x27;, &#x27;behavioral_antiviral_meds&#x27;, &#x27;behavioral_avoidance&#x27;, &#x27;behavioral_face_mask&#x27;, &#x27;behavioral_wash_hands&#x27;, &#x27;behavioral_large_gatherings&#x27;, &#x27;behavioral_outside_home&#x27;, &#x27;behavioral_touch_face&#x27;, &#x27;doctor_recc_xyz&#x27;, &#x27;doctor_recc_seasonal&#x27;, &#x27;chronic_med_condition&#x27;, &#x27;child_under_6_months&#x27;, &#x27;health_worker&#x27;, &#x27;opinion_xyz_vacc_effective&#x27;, &#x27;opinion_xyz_risk&#x27;, &#x27;opinion_xyz_sick_from_vacc&#x27;, &#x27;opinion_seas_vacc_effective&#x27;, &#x27;opinion_seas_risk&#x27;, &#x27;opinion_seas_sick_from_vacc&#x27;, &#x27;household_adults&#x27;, &#x27;household_children&#x27;]</pre></div></div></div><div class=\"sk-serial\"><div class=\"sk-item\"><div class=\"sk-serial\"><div class=\"sk-item\"><div class=\"sk-estimator sk-toggleable\"><input class=\"sk-toggleable__control sk-hidden--visually\" id=\"sk-estimator-id-4\" type=\"checkbox\" ><label for=\"sk-estimator-id-4\" class=\"sk-toggleable__label sk-toggleable__label-arrow\">SimpleImputer</label><div class=\"sk-toggleable__content\"><pre>SimpleImputer(strategy=&#x27;most_frequent&#x27;)</pre></div></div></div></div></div></div></div></div><div class=\"sk-parallel-item\"><div class=\"sk-item\"><div class=\"sk-label-container\"><div class=\"sk-label sk-toggleable\"><input class=\"sk-toggleable__control sk-hidden--visually\" id=\"sk-estimator-id-5\" type=\"checkbox\" ><label for=\"sk-estimator-id-5\" class=\"sk-toggleable__label sk-toggleable__label-arrow\">pipeline-2</label><div class=\"sk-toggleable__content\"><pre>[&#x27;race&#x27;, &#x27;sex&#x27;, &#x27;marital_status&#x27;, &#x27;rent_or_own&#x27;, &#x27;census_msa&#x27;]</pre></div></div></div><div class=\"sk-serial\"><div class=\"sk-item\"><div class=\"sk-serial\"><div class=\"sk-item\"><div class=\"sk-estimator sk-toggleable\"><input class=\"sk-toggleable__control sk-hidden--visually\" id=\"sk-estimator-id-6\" type=\"checkbox\" ><label for=\"sk-estimator-id-6\" class=\"sk-toggleable__label sk-toggleable__label-arrow\">SimpleImputer</label><div class=\"sk-toggleable__content\"><pre>SimpleImputer(strategy=&#x27;most_frequent&#x27;)</pre></div></div></div><div class=\"sk-item\"><div class=\"sk-estimator sk-toggleable\"><input class=\"sk-toggleable__control sk-hidden--visually\" id=\"sk-estimator-id-7\" type=\"checkbox\" ><label for=\"sk-estimator-id-7\" class=\"sk-toggleable__label sk-toggleable__label-arrow\">OneHotEncoder</label><div class=\"sk-toggleable__content\"><pre>OneHotEncoder()</pre></div></div></div></div></div></div></div></div><div class=\"sk-parallel-item\"><div class=\"sk-item\"><div class=\"sk-label-container\"><div class=\"sk-label sk-toggleable\"><input class=\"sk-toggleable__control sk-hidden--visually\" id=\"sk-estimator-id-8\" type=\"checkbox\" ><label for=\"sk-estimator-id-8\" class=\"sk-toggleable__label sk-toggleable__label-arrow\">pipeline-3</label><div class=\"sk-toggleable__content\"><pre>[&#x27;age_group&#x27;, &#x27;education&#x27;, &#x27;income_poverty&#x27;, &#x27;employment_status&#x27;]</pre></div></div></div><div class=\"sk-serial\"><div class=\"sk-item\"><div class=\"sk-serial\"><div class=\"sk-item\"><div class=\"sk-estimator sk-toggleable\"><input class=\"sk-toggleable__control sk-hidden--visually\" id=\"sk-estimator-id-9\" type=\"checkbox\" ><label for=\"sk-estimator-id-9\" class=\"sk-toggleable__label sk-toggleable__label-arrow\">SimpleImputer</label><div class=\"sk-toggleable__content\"><pre>SimpleImputer(strategy=&#x27;most_frequent&#x27;)</pre></div></div></div><div class=\"sk-item\"><div class=\"sk-estimator sk-toggleable\"><input class=\"sk-toggleable__control sk-hidden--visually\" id=\"sk-estimator-id-10\" type=\"checkbox\" ><label for=\"sk-estimator-id-10\" class=\"sk-toggleable__label sk-toggleable__label-arrow\">OrdinalEncoder</label><div class=\"sk-toggleable__content\"><pre>OrdinalEncoder(categories=[[&#x27;18 - 34 Years&#x27;, &#x27;35 - 44 Years&#x27;, &#x27;45 - 54 Years&#x27;,\n",
       "                            &#x27;55 - 64 Years&#x27;, &#x27;65+ Years&#x27;],\n",
       "                           [&#x27;&lt; 12 Years&#x27;, &#x27;12 Years&#x27;, &#x27;Some College&#x27;,\n",
       "                            &#x27;College Graduate&#x27;],\n",
       "                           [&#x27;Below Poverty&#x27;, &#x27;&lt;= $75,000, Above Poverty&#x27;,\n",
       "                            &#x27;&gt; $75,000&#x27;],\n",
       "                           [&#x27;Unemployed&#x27;, &#x27;Not in Labor Force&#x27;, &#x27;Employed&#x27;]])</pre></div></div></div></div></div></div></div></div><div class=\"sk-parallel-item\"><div class=\"sk-item\"><div class=\"sk-label-container\"><div class=\"sk-label sk-toggleable\"><input class=\"sk-toggleable__control sk-hidden--visually\" id=\"sk-estimator-id-11\" type=\"checkbox\" ><label for=\"sk-estimator-id-11\" class=\"sk-toggleable__label sk-toggleable__label-arrow\">remainder</label><div class=\"sk-toggleable__content\"><pre>[]</pre></div></div></div><div class=\"sk-serial\"><div class=\"sk-item\"><div class=\"sk-estimator sk-toggleable\"><input class=\"sk-toggleable__control sk-hidden--visually\" id=\"sk-estimator-id-12\" type=\"checkbox\" ><label for=\"sk-estimator-id-12\" class=\"sk-toggleable__label sk-toggleable__label-arrow\">passthrough</label><div class=\"sk-toggleable__content\"><pre>passthrough</pre></div></div></div></div></div></div></div></div><div class=\"sk-item\"><div class=\"sk-estimator sk-toggleable\"><input class=\"sk-toggleable__control sk-hidden--visually\" id=\"sk-estimator-id-13\" type=\"checkbox\" ><label for=\"sk-estimator-id-13\" class=\"sk-toggleable__label sk-toggleable__label-arrow\">HistGradientBoostingClassifier</label><div class=\"sk-toggleable__content\"><pre>HistGradientBoostingClassifier(l2_regularization=1, learning_rate=0.03,\n",
       "                               max_depth=5, max_iter=500, random_state=10)</pre></div></div></div></div></div></div></div>"
      ],
      "text/plain": [
       "Pipeline(steps=[('columntransformer',\n",
       "                 ColumnTransformer(remainder='passthrough',\n",
       "                                   transformers=[('pipeline-1',\n",
       "                                                  Pipeline(steps=[('simpleimputer',\n",
       "                                                                   SimpleImputer(strategy='most_frequent'))]),\n",
       "                                                  ['xyz_concern',\n",
       "                                                   'xyz_knowledge',\n",
       "                                                   'behavioral_antiviral_meds',\n",
       "                                                   'behavioral_avoidance',\n",
       "                                                   'behavioral_face_mask',\n",
       "                                                   'behavioral_wash_hands',\n",
       "                                                   'behavioral_large_gatherings',\n",
       "                                                   'behavio...\n",
       "                                                                                               'College '\n",
       "                                                                                               'Graduate'],\n",
       "                                                                                              ['Below '\n",
       "                                                                                               'Poverty',\n",
       "                                                                                               '<= '\n",
       "                                                                                               '$75,000, '\n",
       "                                                                                               'Above '\n",
       "                                                                                               'Poverty',\n",
       "                                                                                               '> '\n",
       "                                                                                               '$75,000'],\n",
       "                                                                                              ['Unemployed',\n",
       "                                                                                               'Not '\n",
       "                                                                                               'in '\n",
       "                                                                                               'Labor '\n",
       "                                                                                               'Force',\n",
       "                                                                                               'Employed']]))]),\n",
       "                                                  ['age_group', 'education',\n",
       "                                                   'income_poverty',\n",
       "                                                   'employment_status'])])),\n",
       "                ('histgradientboostingclassifier',\n",
       "                 HistGradientBoostingClassifier(l2_regularization=1,\n",
       "                                                learning_rate=0.03, max_depth=5,\n",
       "                                                max_iter=500,\n",
       "                                                random_state=10))])"
      ]
     },
     "execution_count": 17,
     "metadata": {},
     "output_type": "execute_result"
    }
   ],
   "source": [
    "pipe.fit(X_new,y)"
   ]
  },
  {
   "cell_type": "code",
   "execution_count": null,
   "id": "72cfb6d4",
   "metadata": {},
   "outputs": [],
   "source": []
  },
  {
   "cell_type": "code",
   "execution_count": 18,
   "id": "163e4a3e",
   "metadata": {},
   "outputs": [],
   "source": [
    "test_data=pd.read_csv('test_set_features.csv')"
   ]
  },
  {
   "cell_type": "code",
   "execution_count": 19,
   "id": "373e80a4",
   "metadata": {},
   "outputs": [],
   "source": [
    "test=test_data.drop(['health_insurance','employment_industry','employment_occupation','respondent_id','hhs_geo_region'],axis=1)"
   ]
  },
  {
   "cell_type": "code",
   "execution_count": 20,
   "id": "9a925df9",
   "metadata": {},
   "outputs": [],
   "source": [
    "prob=pipe.predict_proba(test)[:,1]"
   ]
  },
  {
   "cell_type": "code",
   "execution_count": 21,
   "id": "582ef183",
   "metadata": {},
   "outputs": [],
   "source": [
    "pred=pipe.predict(test)"
   ]
  },
  {
   "cell_type": "code",
   "execution_count": 22,
   "id": "7b8b2979",
   "metadata": {},
   "outputs": [],
   "source": [
    "seasonal=pd.DataFrame(prob,columns=['seasonal_vaccine'])"
   ]
  },
  {
   "cell_type": "code",
   "execution_count": 23,
   "id": "df2662b7",
   "metadata": {},
   "outputs": [],
   "source": [
    "seasonal['prediction']=pred"
   ]
  },
  {
   "cell_type": "code",
   "execution_count": 25,
   "id": "ca829e28",
   "metadata": {},
   "outputs": [],
   "source": [
    "seasonal.to_csv('seasonal_vaccine.csv')"
   ]
  },
  {
   "cell_type": "code",
   "execution_count": 26,
   "id": "8d1a92a8",
   "metadata": {},
   "outputs": [
    {
     "data": {
      "text/html": [
       "<div>\n",
       "<style scoped>\n",
       "    .dataframe tbody tr th:only-of-type {\n",
       "        vertical-align: middle;\n",
       "    }\n",
       "\n",
       "    .dataframe tbody tr th {\n",
       "        vertical-align: top;\n",
       "    }\n",
       "\n",
       "    .dataframe thead th {\n",
       "        text-align: right;\n",
       "    }\n",
       "</style>\n",
       "<table border=\"1\" class=\"dataframe\">\n",
       "  <thead>\n",
       "    <tr style=\"text-align: right;\">\n",
       "      <th></th>\n",
       "      <th>seasonal_vaccine</th>\n",
       "      <th>prediction</th>\n",
       "    </tr>\n",
       "  </thead>\n",
       "  <tbody>\n",
       "    <tr>\n",
       "      <th>0</th>\n",
       "      <td>0.203956</td>\n",
       "      <td>0</td>\n",
       "    </tr>\n",
       "    <tr>\n",
       "      <th>1</th>\n",
       "      <td>0.041381</td>\n",
       "      <td>0</td>\n",
       "    </tr>\n",
       "    <tr>\n",
       "      <th>2</th>\n",
       "      <td>0.809632</td>\n",
       "      <td>1</td>\n",
       "    </tr>\n",
       "    <tr>\n",
       "      <th>3</th>\n",
       "      <td>0.902201</td>\n",
       "      <td>1</td>\n",
       "    </tr>\n",
       "    <tr>\n",
       "      <th>4</th>\n",
       "      <td>0.383811</td>\n",
       "      <td>0</td>\n",
       "    </tr>\n",
       "    <tr>\n",
       "      <th>...</th>\n",
       "      <td>...</td>\n",
       "      <td>...</td>\n",
       "    </tr>\n",
       "    <tr>\n",
       "      <th>26703</th>\n",
       "      <td>0.522583</td>\n",
       "      <td>1</td>\n",
       "    </tr>\n",
       "    <tr>\n",
       "      <th>26704</th>\n",
       "      <td>0.445025</td>\n",
       "      <td>0</td>\n",
       "    </tr>\n",
       "    <tr>\n",
       "      <th>26705</th>\n",
       "      <td>0.156215</td>\n",
       "      <td>0</td>\n",
       "    </tr>\n",
       "    <tr>\n",
       "      <th>26706</th>\n",
       "      <td>0.356973</td>\n",
       "      <td>0</td>\n",
       "    </tr>\n",
       "    <tr>\n",
       "      <th>26707</th>\n",
       "      <td>0.574724</td>\n",
       "      <td>1</td>\n",
       "    </tr>\n",
       "  </tbody>\n",
       "</table>\n",
       "<p>26708 rows × 2 columns</p>\n",
       "</div>"
      ],
      "text/plain": [
       "       seasonal_vaccine  prediction\n",
       "0              0.203956           0\n",
       "1              0.041381           0\n",
       "2              0.809632           1\n",
       "3              0.902201           1\n",
       "4              0.383811           0\n",
       "...                 ...         ...\n",
       "26703          0.522583           1\n",
       "26704          0.445025           0\n",
       "26705          0.156215           0\n",
       "26706          0.356973           0\n",
       "26707          0.574724           1\n",
       "\n",
       "[26708 rows x 2 columns]"
      ]
     },
     "execution_count": 26,
     "metadata": {},
     "output_type": "execute_result"
    }
   ],
   "source": [
    "seasonal"
   ]
  },
  {
   "cell_type": "code",
   "execution_count": null,
   "id": "e77d6d15",
   "metadata": {},
   "outputs": [],
   "source": []
  }
 ],
 "metadata": {
  "kernelspec": {
   "display_name": "Python 3 (ipykernel)",
   "language": "python",
   "name": "python3"
  },
  "language_info": {
   "codemirror_mode": {
    "name": "ipython",
    "version": 3
   },
   "file_extension": ".py",
   "mimetype": "text/x-python",
   "name": "python",
   "nbconvert_exporter": "python",
   "pygments_lexer": "ipython3",
   "version": "3.11.7"
  }
 },
 "nbformat": 4,
 "nbformat_minor": 5
}
